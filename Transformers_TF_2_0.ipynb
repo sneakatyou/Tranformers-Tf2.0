{
  "nbformat": 4,
  "nbformat_minor": 0,
  "metadata": {
    "colab": {
      "name": "Transformers TF 2.0.ipynb",
      "provenance": [],
      "collapsed_sections": [],
      "authorship_tag": "ABX9TyM3CGXY6/tCOFytrGjjatR5",
      "include_colab_link": true
    },
    "kernelspec": {
      "name": "python3",
      "display_name": "Python 3"
    }
  },
  "cells": [
    {
      "cell_type": "markdown",
      "metadata": {
        "id": "view-in-github",
        "colab_type": "text"
      },
      "source": [
        "<a href=\"https://colab.research.google.com/github/sneakatyou/Tranformers-Tf2.0/blob/main/Transformers_TF_2_0.ipynb\" target=\"_parent\"><img src=\"https://colab.research.google.com/assets/colab-badge.svg\" alt=\"Open In Colab\"/></a>"
      ]
    },
    {
      "cell_type": "code",
      "metadata": {
        "id": "fN6t_8piOYkj",
        "colab": {
          "base_uri": "https://localhost:8080/"
        },
        "outputId": "62c9c45d-14b1-48c8-a4c0-dc9fc4d9c9d7"
      },
      "source": [
        "!pip install -q tensorflow_datasets\n",
        "!pip install -q tensorflow_text"
      ],
      "execution_count": null,
      "outputs": [
        {
          "output_type": "stream",
          "text": [
            "\u001b[K     |████████████████████████████████| 3.4MB 5.5MB/s \n",
            "\u001b[?25h"
          ],
          "name": "stdout"
        }
      ]
    },
    {
      "cell_type": "code",
      "metadata": {
        "id": "KxMc8kWdaA65"
      },
      "source": [
        "import collections\n",
        "import logging\n",
        "import os\n",
        "import pathlib\n",
        "import re\n",
        "import string\n",
        "import sys\n",
        "import time\n",
        "\n",
        "import numpy as np\n",
        "import matplotlib.pyplot as plt\n",
        "import tensorflow.math as math\n",
        "import tensorflow as tf\n",
        "import tensorflow_datasets as tfds\n",
        "import tensorflow_text as text"
      ],
      "execution_count": null,
      "outputs": []
    },
    {
      "cell_type": "code",
      "metadata": {
        "id": "ijsfo8hraIRZ"
      },
      "source": [
        "logging.getLogger('tensorflow').setLevel(logging.ERROR)"
      ],
      "execution_count": null,
      "outputs": []
    },
    {
      "cell_type": "markdown",
      "metadata": {
        "id": "eF4r-YVGv_6D"
      },
      "source": [
        "Data Loading"
      ]
    },
    {
      "cell_type": "code",
      "metadata": {
        "id": "rs4mjIiXaSSG"
      },
      "source": [
        "examples, metadata = tfds.load('ted_hrlr_translate/pt_to_en', with_info=True,\n",
        "                               as_supervised=True)\n",
        "train_examples, val_examples = examples['train'], examples['validation']"
      ],
      "execution_count": null,
      "outputs": []
    },
    {
      "cell_type": "code",
      "metadata": {
        "colab": {
          "base_uri": "https://localhost:8080/"
        },
        "id": "8sJGRe5vv2K2",
        "outputId": "6c88f2c5-864f-4701-c60c-9efa4a87b9d3"
      },
      "source": [
        "for pt_examples, en_examples in train_examples.batch(3).take(1):\n",
        "  for pt in pt_examples.numpy():\n",
        "      print(pt.decode('utf-8'))\n",
        "  print(\"------------------------------\")\n",
        "  for en in en_examples.numpy():\n",
        "      print(en.decode('utf-8'))"
      ],
      "execution_count": null,
      "outputs": [
        {
          "output_type": "stream",
          "text": [
            "e quando melhoramos a procura , tiramos a única vantagem da impressão , que é a serendipidade .\n",
            "mas e se estes fatores fossem ativos ?\n",
            "mas eles não tinham a curiosidade de me testar .\n",
            "------------------------------\n",
            "and when you improve searchability , you actually take away the one advantage of print , which is serendipity .\n",
            "but what if it were active ?\n",
            "but they did n't test for curiosity .\n"
          ],
          "name": "stdout"
        }
      ]
    },
    {
      "cell_type": "code",
      "metadata": {
        "colab": {
          "base_uri": "https://localhost:8080/",
          "height": 72
        },
        "id": "qTPVmH2G1BYR",
        "outputId": "c7581fa7-e027-4ca2-edcb-9d817e3f9acc"
      },
      "source": [
        "model_name = \"ted_hrlr_translate_pt_en_converter\"\n",
        "tf.keras.utils.get_file(\n",
        "    f\"{model_name}.zip\",\n",
        "    f\"https://storage.googleapis.com/download.tensorflow.org/models/{model_name}.zip\",\n",
        "    cache_dir='.', cache_subdir='', extract=True\n",
        ")"
      ],
      "execution_count": null,
      "outputs": [
        {
          "output_type": "stream",
          "text": [
            "Downloading data from https://storage.googleapis.com/download.tensorflow.org/models/ted_hrlr_translate_pt_en_converter.zip\n",
            "188416/184801 [==============================] - 0s 0us/step\n"
          ],
          "name": "stdout"
        },
        {
          "output_type": "execute_result",
          "data": {
            "application/vnd.google.colaboratory.intrinsic+json": {
              "type": "string"
            },
            "text/plain": [
              "'./ted_hrlr_translate_pt_en_converter.zip'"
            ]
          },
          "metadata": {
            "tags": []
          },
          "execution_count": 8
        }
      ]
    },
    {
      "cell_type": "code",
      "metadata": {
        "id": "vnY4EiSo3ycA"
      },
      "source": [
        "tokenizers = tf.saved_model.load(model_name)"
      ],
      "execution_count": null,
      "outputs": []
    },
    {
      "cell_type": "code",
      "metadata": {
        "colab": {
          "base_uri": "https://localhost:8080/"
        },
        "id": "K7vDG-l94PJG",
        "outputId": "7bee8585-243a-4dc7-bdaa-50ad94244358"
      },
      "source": [
        "tokenizers.en.vocab"
      ],
      "execution_count": null,
      "outputs": [
        {
          "output_type": "execute_result",
          "data": {
            "text/plain": [
              "<tf.Variable 'Variable:0' shape=(7010,) dtype=string, numpy=\n",
              "array([b'[PAD]', b'[UNK]', b'[START]', ..., b'##\\xe2\\x80\\x99',\n",
              "       b'##\\xe2\\x99\\xaa', b'##\\xe2\\x99\\xab'], dtype=object)>"
            ]
          },
          "metadata": {
            "tags": []
          },
          "execution_count": 14
        }
      ]
    },
    {
      "cell_type": "code",
      "metadata": {
        "colab": {
          "base_uri": "https://localhost:8080/"
        },
        "id": "0D9KWjgJ4XxP",
        "outputId": "9fa785cd-01d2-43b3-fa0d-5f00c162ae41"
      },
      "source": [
        "tokenizers.pt.vocab"
      ],
      "execution_count": null,
      "outputs": [
        {
          "output_type": "execute_result",
          "data": {
            "text/plain": [
              "<tf.Variable 'Variable:0' shape=(7765,) dtype=string, numpy=\n",
              "array([b'[PAD]', b'[UNK]', b'[START]', ..., b'##\\xe2\\x82\\xac',\n",
              "       b'##\\xe2\\x99\\xaa', b'##\\xe2\\x99\\xab'], dtype=object)>"
            ]
          },
          "metadata": {
            "tags": []
          },
          "execution_count": 15
        }
      ]
    },
    {
      "cell_type": "code",
      "metadata": {
        "colab": {
          "base_uri": "https://localhost:8080/"
        },
        "id": "jOm1Lh-h4bEF",
        "outputId": "7525ccb7-6379-4952-d313-07d78961662d"
      },
      "source": [
        "dir(tokenizers)[-7:]"
      ],
      "execution_count": null,
      "outputs": [
        {
          "output_type": "execute_result",
          "data": {
            "text/plain": [
              "['_update_uid',\n",
              " 'en',\n",
              " 'graph_debug_info',\n",
              " 'pt',\n",
              " 'signatures',\n",
              " 'tensorflow_git_version',\n",
              " 'tensorflow_version']"
            ]
          },
          "metadata": {
            "tags": []
          },
          "execution_count": 24
        }
      ]
    },
    {
      "cell_type": "code",
      "metadata": {
        "colab": {
          "base_uri": "https://localhost:8080/"
        },
        "id": "47W_nZZl5W4Y",
        "outputId": "1061590e-2d68-4a77-ae17-346d94a21427"
      },
      "source": [
        "dir(tokenizers.en)[-10:]"
      ],
      "execution_count": null,
      "outputs": [
        {
          "output_type": "execute_result",
          "data": {
            "text/plain": [
              "['_update_uid',\n",
              " '_vocab_path',\n",
              " 'detokenize',\n",
              " 'get_reserved_tokens',\n",
              " 'get_vocab_path',\n",
              " 'get_vocab_size',\n",
              " 'lookup',\n",
              " 'tokenize',\n",
              " 'tokenizer',\n",
              " 'vocab']"
            ]
          },
          "metadata": {
            "tags": []
          },
          "execution_count": 22
        }
      ]
    },
    {
      "cell_type": "code",
      "metadata": {
        "colab": {
          "base_uri": "https://localhost:8080/"
        },
        "id": "4DUaW8qK30q4",
        "outputId": "98760d4e-6e9c-4c22-9588-0f6f7b96632f"
      },
      "source": [
        "[item for item in dir(tokenizers.en) if not item.startswith('_')]"
      ],
      "execution_count": null,
      "outputs": [
        {
          "output_type": "execute_result",
          "data": {
            "text/plain": [
              "['detokenize',\n",
              " 'get_reserved_tokens',\n",
              " 'get_vocab_path',\n",
              " 'get_vocab_size',\n",
              " 'lookup',\n",
              " 'tokenize',\n",
              " 'tokenizer',\n",
              " 'vocab']"
            ]
          },
          "metadata": {
            "tags": []
          },
          "execution_count": 12
        }
      ]
    },
    {
      "cell_type": "code",
      "metadata": {
        "colab": {
          "base_uri": "https://localhost:8080/"
        },
        "id": "0xSXKBCL5w-x",
        "outputId": "e9bc1ef5-5152-4639-924c-3dd046643af4"
      },
      "source": [
        "encoded = tokenizers.en.tokenize(en_examples)\n",
        "for row in encoded.to_list():\n",
        "    print(row)"
      ],
      "execution_count": null,
      "outputs": [
        {
          "output_type": "stream",
          "text": [
            "[2, 72, 117, 79, 1259, 1491, 2362, 13, 79, 150, 184, 311, 71, 103, 2308, 74, 2679, 13, 148, 80, 55, 4840, 1434, 2423, 540, 15, 3]\n",
            "[2, 87, 90, 107, 76, 129, 1852, 30, 3]\n",
            "[2, 87, 83, 149, 50, 9, 56, 664, 85, 2512, 15, 3]\n"
          ],
          "name": "stdout"
        }
      ]
    },
    {
      "cell_type": "code",
      "metadata": {
        "colab": {
          "base_uri": "https://localhost:8080/"
        },
        "id": "wM69iVnq-pwV",
        "outputId": "127b3688-6a4b-4c4d-9e2b-069105acc992"
      },
      "source": [
        "for en in en_examples.numpy():\n",
        "  print(en.decode('utf-8'))"
      ],
      "execution_count": null,
      "outputs": [
        {
          "output_type": "stream",
          "text": [
            "and when you improve searchability , you actually take away the one advantage of print , which is serendipity .\n",
            "but what if it were active ?\n",
            "but they did n't test for curiosity .\n"
          ],
          "name": "stdout"
        }
      ]
    },
    {
      "cell_type": "code",
      "metadata": {
        "colab": {
          "base_uri": "https://localhost:8080/"
        },
        "id": "KsTgJRU9-LCO",
        "outputId": "dec767bd-56ce-41b4-e621-4d73b10ecbac"
      },
      "source": [
        "encoded.shape"
      ],
      "execution_count": null,
      "outputs": [
        {
          "output_type": "execute_result",
          "data": {
            "text/plain": [
              "TensorShape([3, None])"
            ]
          },
          "metadata": {
            "tags": []
          },
          "execution_count": 30
        }
      ]
    },
    {
      "cell_type": "code",
      "metadata": {
        "id": "eNt9MdrtDWfo"
      },
      "source": [
        "def tokenize_pairs(en,pt):\n",
        "    pt = tokenizers.pt.tokenize(pt)\n",
        "    en = tokenizers.en.tokenize(en)\n",
        "\n",
        "    pt = pt.to_tensor()\n",
        "    en = en.to_tensor()\n",
        "    return en,pt"
      ],
      "execution_count": null,
      "outputs": []
    },
    {
      "cell_type": "code",
      "metadata": {
        "id": "q97N0XHUEu3-"
      },
      "source": [
        "BUFFER_SIZE = 20000\n",
        "BATCH_SIZE = 64"
      ],
      "execution_count": null,
      "outputs": []
    },
    {
      "cell_type": "code",
      "metadata": {
        "id": "lJZjmkZ2IbQI"
      },
      "source": [
        "def make_batches(ds):\n",
        "    return ds.cache().shuffle(BUFFER_SIZE).batch(BATCH_SIZE).map(tokenize_pairs,num_parallel_calls = tf.data.AUTOTUNE).prefetch(tf.data.AUTOTUNE)\n"
      ],
      "execution_count": null,
      "outputs": []
    },
    {
      "cell_type": "code",
      "metadata": {
        "id": "hIlNCLmZJCyw"
      },
      "source": [
        "train_batches = make_batches(train_examples)\n",
        "val_batches = make_batches(val_examples)\n"
      ],
      "execution_count": null,
      "outputs": []
    },
    {
      "cell_type": "markdown",
      "metadata": {
        "id": "iphtAIiMbAu2"
      },
      "source": [
        "#Positional Embeddings"
      ]
    },
    {
      "cell_type": "code",
      "metadata": {
        "id": "pvTINDQtanmZ"
      },
      "source": [
        "def get_angle(pos,i,d_model): #d_model = 512\n",
        "    divisor = math.pow(tf.constant(10000,dtype=tf.float32),math.divide(math.multiply(tf.constant(2,tf.float32),i//2),tf.cast(d_model,tf.float32)))\n",
        "    angle = math.divide(pos,divisor)\n",
        "    return angle"
      ],
      "execution_count": null,
      "outputs": []
    },
    {
      "cell_type": "code",
      "metadata": {
        "id": "GgV54p7aewwV"
      },
      "source": [
        "\n",
        "def get_positional_encoding(pos,d_model): #d_model = 512\n",
        "    angle_final = get_angle(tf.expand_dims(tf.range(tf.cast(pos,tf.float32)),axis = 1),tf.expand_dims(tf.range(tf.cast(d_model,tf.float32)),axis = 0),d_model)\n",
        "    np_angle_final = angle_final.numpy()\n",
        "    np_angle_final[:,0::2] = np.sin(np_angle_final[:,0::2])\n",
        "    np_angle_final[:,1::2] = np.cos(np_angle_final[:,1::2])\n",
        "    angle_final = tf.convert_to_tensor(np_angle_final)\n",
        "    pos_encoding = angle_final[tf.newaxis,...]\n",
        "    return tf.cast(pos_encoding,dtype=tf.float32)\n"
      ],
      "execution_count": null,
      "outputs": []
    },
    {
      "cell_type": "code",
      "metadata": {
        "colab": {
          "base_uri": "https://localhost:8080/",
          "height": 301
        },
        "id": "HhOuCtFskS0P",
        "outputId": "6c75a999-1e3b-41e3-b84f-7f35236cbab0"
      },
      "source": [
        "n = tf.constant(2048.0,tf.float32)\n",
        "d = tf.constant(512.0,tf.float32)\n",
        "pos_encoding = get_positional_encoding(2048.0, 512.0)\n",
        "print(pos_encoding.shape)\n",
        "pos_encoding = pos_encoding[0]\n",
        "pos_encoding = tf.reshape(pos_encoding, (n, d//2, 2))\n",
        "pos_encoding = tf.transpose(pos_encoding, (2,1,0))\n",
        "pos_encoding = tf.reshape(pos_encoding, (d, n))\n",
        "\n",
        "plt.pcolormesh(pos_encoding, cmap='RdBu')\n",
        "plt.ylabel('Depth')\n",
        "plt.xlabel('Position')\n",
        "plt.colorbar()\n",
        "plt.show()"
      ],
      "execution_count": null,
      "outputs": [
        {
          "output_type": "stream",
          "text": [
            "(1, 2048, 512)\n"
          ],
          "name": "stdout"
        },
        {
          "output_type": "display_data",
          "data": {
            "image/png": "[encoded data removed]",
            "text/plain": [
              "<Figure size 432x288 with 2 Axes>"
            ]
          },
          "metadata": {
            "tags": [],
            "needs_background": "light"
          }
        }
      ]
    },
    {
      "cell_type": "markdown",
      "metadata": {
        "id": "PUwFJORgCwK3"
      },
      "source": [
        "#Mask"
      ]
    },
    {
      "cell_type": "code",
      "metadata": {
        "id": "wkMlqQ1B44Hw"
      },
      "source": [
        "def generate_mask(seq):\n",
        "    seq  = tf.cast(math.equal(seq,0),tf.float32)\n",
        "    return seq[:,tf.newaxis,tf.newaxis,:]"
      ],
      "execution_count": null,
      "outputs": []
    },
    {
      "cell_type": "code",
      "metadata": {
        "id": "oFIuTFeF8FGp"
      },
      "source": [
        "def generate_lookahead_mask(size):\n",
        "    mask = 1 - tf.linalg.band_part(tf.ones((size,size)),-1,0)\n",
        "    return mask"
      ],
      "execution_count": null,
      "outputs": []
    },
    {
      "cell_type": "markdown",
      "metadata": {
        "id": "fWSUpw2-Cxsl"
      },
      "source": [
        "#Self Attention"
      ]
    },
    {
      "cell_type": "code",
      "metadata": {
        "id": "O9DEsuaL9Dii"
      },
      "source": [
        "def Scaled_Dot_Product(q,k,v,mask,d_model):\n",
        "    qk = tf.matmul(q,k,transpose_b = True)\n",
        "    scaled_qk = tf.divide(qk,math.sqrt(tf.cast(d_model,tf.float32)))\n",
        "    \"\"\"print(\"---------------\")\n",
        "    print(\"shape before mask\",scaled_qk.get_shape())\n",
        "    print(\"shape of mask\",mask.get_shape())\n",
        "    print(scaled_qk.numpy())\"\"\"\n",
        "    if mask is not None:\n",
        "        scaled_qk += (mask*-1e9)\n",
        "        \"\"\"print(\"shape mask\",scaled_qk.get_shape())\"\"\"\n",
        "        \n",
        "    attention_weights = tf.nn.softmax(scaled_qk,axis = -1)\n",
        "    \"\"\"print(attention_weights.numpy())\"\"\"\n",
        "    final_output = tf.matmul(attention_weights,v)\n",
        "    \"\"\"print(\"---------------\")\"\"\"\n",
        "    return attention_weights,final_output\n"
      ],
      "execution_count": null,
      "outputs": []
    },
    {
      "cell_type": "markdown",
      "metadata": {
        "id": "XJ2-ODLhO6n6"
      },
      "source": [
        "#Multi Head Attention"
      ]
    },
    {
      "cell_type": "code",
      "metadata": {
        "id": "0CbCuOjlOutq"
      },
      "source": [
        "class MultiHeadAttention(tf.keras.layers.Layer):\n",
        "    def __init__(self,num_heads,d_model):\n",
        "        super(MultiHeadAttention,self).__init__()\n",
        "        self.num_heads = num_heads\n",
        "        self.d_model = d_model\n",
        "        self.depth = self.d_model//self.num_heads\n",
        "        self.wq = tf.keras.layers.Dense(units = d_model)\n",
        "        self.wk = tf.keras.layers.Dense(units = d_model)\n",
        "        self.wv = tf.keras.layers.Dense(units = d_model)\n",
        "        self.dense1 = tf.keras.layers.Dense(units = d_model)\n",
        "    \n",
        "    def split_into_heads(self,x,batch_size):\n",
        "        #print(\"x shape is\",x.get_shape())\n",
        "        x = tf.reshape(x,(batch_size,-1,self.num_heads,self.depth))\n",
        "        return tf.transpose(x,perm = [0,2,1,3])\n",
        "    \n",
        "    def call(self,q,k,v,mask):\n",
        "        batch_size = tf.shape(q)[0]\n",
        "        print(tf.shape(q))\n",
        "        q = self.wq(q)\n",
        "        k = self.wk(k)\n",
        "        v = self.wq(v)\n",
        "        \n",
        "        #splitting into heads\n",
        "        q = self.split_into_heads(q,batch_size)\n",
        "        k = self.split_into_heads(k,batch_size)\n",
        "        v = self.split_into_heads(v,batch_size)\n",
        "\n",
        "        attention_weights,multi_head_output = Scaled_Dot_Product(q,k,v,mask,self.depth)\n",
        "\n",
        "        pre_concat_multi_head_output =  tf.transpose(multi_head_output,perm = [0,2,1,3])\n",
        "        post_concat_multi_head_output =  tf.reshape(pre_concat_multi_head_output,(batch_size,-1,self.d_model))\n",
        "        \n",
        "        final_output = self.dense1(post_concat_multi_head_output)\n",
        "        return attention_weights,final_output\n"
      ],
      "execution_count": null,
      "outputs": []
    },
    {
      "cell_type": "code",
      "metadata": {
        "id": "4jbeWc8P7SVT",
        "colab": {
          "base_uri": "https://localhost:8080/"
        },
        "outputId": "b9fce36a-cd8a-4020-8dae-dab7304446ae"
      },
      "source": [
        "temp_mha = MultiHeadAttention(d_model=512, num_heads=8)\n",
        "y = tf.random.uniform((64, 60, 512))  # (batch_size, encoder_sequence, d_model)\n",
        "out, attn = temp_mha(y, y, y, mask=None)\n",
        "out.shape, attn.shape"
      ],
      "execution_count": null,
      "outputs": [
        {
          "output_type": "stream",
          "text": [
            "tf.Tensor([ 64  60 512], shape=(3,), dtype=int32)\n"
          ],
          "name": "stdout"
        },
        {
          "output_type": "execute_result",
          "data": {
            "text/plain": [
              "(TensorShape([64, 8, 60, 60]), TensorShape([64, 60, 512]))"
            ]
          },
          "metadata": {
            "tags": []
          },
          "execution_count": 81
        }
      ]
    },
    {
      "cell_type": "markdown",
      "metadata": {
        "id": "BmkEw1gQe211"
      },
      "source": [
        "#Point wise feed forward network"
      ]
    },
    {
      "cell_type": "code",
      "metadata": {
        "id": "Dn0lD9Q0WLTh"
      },
      "source": [
        "def Point_Wise_FeedForward_Net(d_model,hidden_layer_shape):\n",
        "    return tf.keras.Sequential([\n",
        "      tf.keras.layers.Dense(hidden_layer_shape, activation='relu'),  # (batch_size, seq_len, dff)\n",
        "      tf.keras.layers.Dense(d_model)  # (batch_size, seq_len, d_model)\n",
        "  ])\n",
        "    "
      ],
      "execution_count": null,
      "outputs": []
    },
    {
      "cell_type": "markdown",
      "metadata": {
        "id": "XNm9nqXG8rZL"
      },
      "source": [
        "#Contructing Encoder Module"
      ]
    },
    {
      "cell_type": "code",
      "metadata": {
        "id": "VWh34GQF8V3V"
      },
      "source": [
        "class Encoding_Layer(tf.keras.layers.Layer):\n",
        "    def __init__(self,num_heads,d_model,hidden_layer_shape,rate=0.1):\n",
        "        super(Encoding_Layer,self).__init__()\n",
        "        self.d_model = d_model\n",
        "        self.num_heads = num_heads\n",
        "        self.multi_head_attention = MultiHeadAttention(num_heads,d_model)\n",
        "        self.point_wise_ffd_net = Point_Wise_FeedForward_Net(d_model,hidden_layer_shape)\n",
        "        self.norm1 = tf.keras.layers.LayerNormalization(epsilon = 1e-6)\n",
        "        self.norm2 = tf.keras.layers.LayerNormalization(epsilon = 1e-6)\n",
        "        self.dropout1 = tf.keras.layers.Dropout(rate)\n",
        "        self.dropout2 = tf.keras.layers.Dropout(rate)\n",
        "    \n",
        "    def call(self,x,mask,training = True):\n",
        "        #part1\n",
        "        _,multihead_output = self.multi_head_attention(x,x,x,mask)\n",
        "        dropout_multihead_output = self.dropout1(multihead_output,training = training)\n",
        "        skip_dropout_output = tf.add(x,dropout_multihead_output)\n",
        "        norm1_skip_output  = self.norm1(skip_dropout_output)        \n",
        "        #part2\n",
        "        point_norm1_output = self.point_wise_ffd_net(norm1_skip_output)\n",
        "        dropout_point_output = self.dropout2(point_norm1_output,training = training)\n",
        "        skip_dropout_output = tf.add(dropout_point_output,norm1_skip_output)\n",
        "        norm2_skip_output = self.norm2(skip_dropout_output)\n",
        "        return norm2_skip_output"
      ],
      "execution_count": null,
      "outputs": []
    },
    {
      "cell_type": "code",
      "metadata": {
        "id": "zwlLVGZ7THK-"
      },
      "source": [
        "class Decoding_Layer(tf.keras.layers.Layer):\n",
        "    def __init__(self,num_heads,d_model,hidden_layer_shape,rate = 0.1):\n",
        "        super(Decoding_Layer,self).__init__()\n",
        "        self.multi_head_attention1 = MultiHeadAttention(num_heads,d_model,)\n",
        "        self.multi_head_attention2 = MultiHeadAttention(num_heads,d_model)\n",
        "        self.norm1 = tf.keras.layers.LayerNormalization(epsilon = 1e-6)\n",
        "        self.norm2 = tf.keras.layers.LayerNormalization(epsilon = 1e-6)\n",
        "        self.norm3 = tf.keras.layers.LayerNormalization(epsilon = 1e-6)\n",
        "        self.point_ffd_net = Point_Wise_FeedForward_Net(d_model,hidden_layer_shape)\n",
        "        self.dropout1 = tf.keras.layers.Dropout(rate)\n",
        "        self.dropout2 = tf.keras.layers.Dropout(rate)\n",
        "        self.dropout3 = tf.keras.layers.Dropout(rate)\n",
        "\n",
        "    def call(self,x,k,v,la_mask,pd_mask,training = False):\n",
        "        _,multihead1_output = self.multi_head_attention1(x,x,x,la_mask)\n",
        "        dropout1_multihead1_output = self.dropout1(multihead1_output)\n",
        "        skip1_dropout1_output = tf.add(dropout1_multihead1_output,x)\n",
        "        norm1_skip1_output = self.norm1(skip1_dropout1_output)\n",
        "\n",
        "        _,multihead2_output  = self.multi_head_attention2(x,k,v,pd_mask)\n",
        "        dropout2_multihead2_output = self.dropout2(multihead2_output)\n",
        "        skip2_dropout2_output = tf.add(dropout2_multihead2_output,norm1_skip1_output)\n",
        "        norm2_skip2_output = self.norm2(skip2_dropout2_output)\n",
        "\n",
        "        point_norm2_output = self.point_ffd_net(norm2_skip2_output)\n",
        "        dropout3_point_output = self.dropout3(point_norm2_output)\n",
        "        skip3_dropout3_output = tf.add(norm2_skip2_output,dropout3_point_output)\n",
        "        norm3_skip3_output = self.norm3(skip3_dropout3_output)\n",
        "        return norm3_skip3_output"
      ],
      "execution_count": null,
      "outputs": []
    },
    {
      "cell_type": "markdown",
      "metadata": {
        "id": "yUNz_Nh6HWBa"
      },
      "source": [
        "#Encoder"
      ]
    },
    {
      "cell_type": "code",
      "metadata": {
        "id": "3EUpUU0XD2pl"
      },
      "source": [
        "class Encoder(tf.keras.layers.Layer):\n",
        "    def __init__(self,d_model,num_heads,hidden_layer_shape,input_size, max_pos_encoding,num_enc_layers,rate = 0.1):\n",
        "        super(Encoder,self).__init__()\n",
        "        self.position_encoding = get_positional_encoding(max_pos_encoding,d_model)\n",
        "        self.input_embedding = tf.keras.layers.Embedding(input_size,tf.cast(d_model,tf.int32))\n",
        "        self.enc_layers = [Encoding_Layer(num_heads,d_model,hidden_layer_shape,rate) for _ in range(num_enc_layers)]\n",
        "        self.dropout = tf.keras.layers.Dropout(rate)\n",
        "        self.d_model = d_model\n",
        "        self.num_enc_layers = num_enc_layers\n",
        "    def call(self,x,mask,training):\n",
        "        seq_len = x.get_shape()[1]\n",
        "        print(seq_len)\n",
        "        embedding = self.input_embedding(x)\n",
        "        #we multiply by sqrt(d) so as to increse the signal strength of input embedding, and \n",
        "        #thus reducing relative strength of positional encoding. so when we add both, we retain the \n",
        "        #information in the input embeddings\n",
        "        scaled_embedding = math.multiply(embedding,math.sqrt(tf.cast(self.d_model,tf.float32)))\n",
        "        pos_scaled_embedding = math.add(scaled_embedding,self.position_encoding[:,:seq_len,:])\n",
        "        #print(pos_scaled_embedding.get_shape())\n",
        "\n",
        "        output_input_encoder = self.dropout(pos_scaled_embedding,training = training)\n",
        "        for i in range(self.num_enc_layers):\n",
        "            output_input_encoder = self.enc_layers[i](output_input_encoder,mask,False)\n",
        "        return output_input_encoder"
      ],
      "execution_count": null,
      "outputs": []
    },
    {
      "cell_type": "code",
      "metadata": {
        "colab": {
          "base_uri": "https://localhost:8080/"
        },
        "id": "m1reWLfVx1BV",
        "outputId": "850675ff-8cb2-4df3-9596-e203637b44c0"
      },
      "source": [
        "encoder = Encoder(tf.constant(512,tf.int32),tf.constant(8,tf.int32),tf.constant(2048,tf.int32),tf.constant(8500,tf.int32),tf.constant(10000,tf.int32),tf.constant(2,tf.int32))\n",
        "input = tf.random.uniform((1,5),dtype=tf.int32,minval= 0,maxval=200)\n",
        "mask = generate_mask(input)\n",
        "output = encoder(input,mask,False)\n",
        "print(output.shape)"
      ],
      "execution_count": null,
      "outputs": [
        {
          "output_type": "stream",
          "text": [
            "5\n",
            "tf.Tensor([  1   5 512], shape=(3,), dtype=int32)\n",
            "tf.Tensor([  1   5 512], shape=(3,), dtype=int32)\n",
            "(1, 5, 512)\n"
          ],
          "name": "stdout"
        }
      ]
    },
    {
      "cell_type": "markdown",
      "metadata": {
        "id": "Rrw7pfpIHY7p"
      },
      "source": [
        "#Decoder"
      ]
    },
    {
      "cell_type": "code",
      "metadata": {
        "id": "ZJK_lgTSIQds"
      },
      "source": [
        "class Decoder(tf.keras.layers.Layer):\n",
        "    def __init__(self,num_heads,d_model,hidden_layer_shape,max_position_encoding,num_layers,target_vocab_size,rate=0.1):\n",
        "        super(Decoder,self).__init__()\n",
        "        self.position_encoding = get_positional_encoding(max_position_encoding,d_model)\n",
        "        self.d_model = d_model\n",
        "        self.num_layers = num_layers\n",
        "        self.input_embedding = tf.keras.layers.Embedding(target_vocab_size,d_model)\n",
        "        self.decoder_layers = [Decoding_Layer(num_heads,d_model,hidden_layer_shape) for _ in tf.range(num_layers)]\n",
        "        self.dropout = tf.keras.layers.Dropout(rate)\n",
        "        self.num_layers = num_layers\n",
        "    def call(self,x,encoder_output,look_ahead_mask,padding_mask,training = True):\n",
        "        seq_len = tf.shape(x)[1]\n",
        "        embedding = self.input_embedding(x)\n",
        "        scaled_embedding = math.multiply(embedding,math.sqrt(tf.cast(self.d_model,tf.float32)))\n",
        "        positional_encoding = self.position_encoding[:,:seq_len,:]\n",
        "        pos_scaled_embedding = tf.add(positional_encoding,positional_encoding)\n",
        "        \n",
        "        output_input_decoder = self.dropout(pos_scaled_embedding,training = training)\n",
        "        for i in range(self.num_layers):\n",
        "            #print(i)\n",
        "            output_input_decoder = self.decoder_layers[i](output_input_decoder,encoder_output,encoder_output,look_ahead_mask,padding_mask)\n",
        "        \n",
        "        return output_input_decoder"
      ],
      "execution_count": null,
      "outputs": []
    },
    {
      "cell_type": "code",
      "metadata": {
        "colab": {
          "base_uri": "https://localhost:8080/"
        },
        "id": "VawLhfDzljVU",
        "outputId": "d6e6c5f1-3e5b-428f-958c-c586979d6afa"
      },
      "source": [
        "sample_decoder = Decoder(num_layers=2, d_model=512, num_heads=8, \n",
        "                         hidden_layer_shape = 2048, target_vocab_size=8000,\n",
        "                         max_position_encoding=5000)\n",
        "temp_input = tf.random.uniform((1, 5), dtype=tf.int64, minval=0, maxval=200)\n",
        "mask = generate_lookahead_mask(5)\n",
        "pd_mask = generate_mask(temp_input)\n",
        "output = sample_decoder(temp_input, \n",
        "                              encoder_output=output, \n",
        "                              training=False,\n",
        "                              look_ahead_mask=mask, \n",
        "                              padding_mask=pd_mask)\n",
        "\n",
        "output.shape"
      ],
      "execution_count": null,
      "outputs": [
        {
          "output_type": "stream",
          "text": [
            "tf.Tensor([  1   5 512], shape=(3,), dtype=int32)\n",
            "tf.Tensor([  1   5 512], shape=(3,), dtype=int32)\n",
            "tf.Tensor([  1   5 512], shape=(3,), dtype=int32)\n",
            "tf.Tensor([  1   5 512], shape=(3,), dtype=int32)\n"
          ],
          "name": "stdout"
        },
        {
          "output_type": "execute_result",
          "data": {
            "text/plain": [
              "TensorShape([1, 5, 512])"
            ]
          },
          "metadata": {
            "tags": []
          },
          "execution_count": 88
        }
      ]
    },
    {
      "cell_type": "markdown",
      "metadata": {
        "id": "pECV12d7uhdr"
      },
      "source": [
        "#Transformer Model\n",
        "\n",
        "---\n",
        "\n"
      ]
    },
    {
      "cell_type": "code",
      "metadata": {
        "id": "GNMjR4tsuQzu"
      },
      "source": [
        "class Transformer(tf.keras.Model):\n",
        "    def __init__(self,num_layers,num_heads,d_model,hidden_layer_shape,target_vocab_size, pe_input,pe_target,input_vocab_size,rate = 0.1):\n",
        "        super(Transformer,self).__init__()\n",
        "        self.encoder = Encoder(d_model,num_heads,hidden_layer_shape,input_vocab_size,pe_input,num_layers,rate)\n",
        "        self.decoder = Decoder(num_heads,d_model,hidden_layer_shape,pe_target,num_layers,target_vocab_size,rate)\n",
        "        self.final_layer = tf.keras.layers.Dense(target_vocab_size)\n",
        "\n",
        "    def call(self,input,target,enc_padding_mask,look_ahead_mask,dec_padding_mask,training = False):\n",
        "        enc_output = self.encoder(input,enc_padding_mask,training)\n",
        "        dec_output = self.decoder(target,enc_output,look_ahead_mask,dec_padding_mask,training)\n",
        "        final_output = self.final_layer(dec_output)\n",
        "\n",
        "        return final_output\n"
      ],
      "execution_count": null,
      "outputs": []
    },
    {
      "cell_type": "code",
      "metadata": {
        "id": "tN5x59HkuTX5"
      },
      "source": [
        "sample_transformer = Transformer(\n",
        "    num_layers=2, d_model=512, num_heads=8, hidden_layer_shape =2048, \n",
        "    input_vocab_size=8500, target_vocab_size=8000, \n",
        "    pe_input=10000, pe_target=6000)\n",
        "\n",
        "temp_input = tf.random.uniform((64, 38), dtype=tf.int64, minval=0, maxval=200)\n",
        "temp_target = tf.random.uniform((64, 36), dtype=tf.int64, minval=0, maxval=200)\n",
        "\n",
        "tar_inp = temp_target[:,:-1]\n",
        "enc_padding_mask, combined_mask, dec_padding_mask = create_masks(temp_input, tar_inp)\n",
        "fn_out= sample_transformer(temp_input, tar_inp, training=False, \n",
        "                               enc_padding_mask = enc_padding_mask, \n",
        "                               look_ahead_mask = combined_mask,\n",
        "                               dec_padding_mask = dec_padding_mask)\n",
        "\n",
        "fn_out\n"
      ],
      "execution_count": null,
      "outputs": []
    },
    {
      "cell_type": "markdown",
      "metadata": {
        "id": "Vu1crVYO7V29"
      },
      "source": [
        "#Training\n",
        "\n",
        "---\n",
        "\n"
      ]
    },
    {
      "cell_type": "code",
      "metadata": {
        "id": "8uWl66mnuTUd"
      },
      "source": [
        "num_layers = 4\n",
        "d_model = 128\n",
        "hidden_layer_shape = 512\n",
        "num_heads = 8\n",
        "dropout_rate = 0.1\n",
        "epochs = 20"
      ],
      "execution_count": null,
      "outputs": []
    },
    {
      "cell_type": "code",
      "metadata": {
        "id": "JQQ4Ks8juTS1"
      },
      "source": [
        "class LearningRateSchedule(tf.keras.optimizers.schedules.LearningRateSchedule):\n",
        "    def __init__(self,d_model,warmup_steps = 5000):\n",
        "        super(LearningRateSchedule,self).__init__()\n",
        "        self.d_model = tf.cast(d_model,tf.float32)\n",
        "        self.warmup_steps = tf.cast(warmup_steps,tf.float32)\n",
        "    \n",
        "    def __call__(self,step):\n",
        "        min_output = tf.minimum(math.rsqrt(step),step*math.pow(self.warmup_steps,tf.constant(-1.5,tf.float32)))\n",
        "        learning_rate = math.rsqrt(self.d_model)*min_output\n",
        "        return learning_rate\n",
        "    "
      ],
      "execution_count": null,
      "outputs": []
    },
    {
      "cell_type": "code",
      "metadata": {
        "colab": {
          "base_uri": "https://localhost:8080/",
          "height": 297
        },
        "id": "pQ4BMpT_uTP5",
        "outputId": "e6a14b21-fdfd-49bf-ea5f-fa61583c5329"
      },
      "source": [
        "temp_learning_rate_schedule = LearningRateSchedule(d_model)\n",
        "\n",
        "plt.plot(temp_learning_rate_schedule(tf.range(40000, dtype=tf.float32)))\n",
        "plt.ylabel(\"Learning Rate\")\n",
        "plt.xlabel(\"Train Step\")"
      ],
      "execution_count": null,
      "outputs": [
        {
          "output_type": "execute_result",
          "data": {
            "text/plain": [
              "Text(0.5, 0, 'Train Step')"
            ]
          },
          "metadata": {
            "tags": []
          },
          "execution_count": 113
        },
        {
          "output_type": "display_data",
          "data": {
            "image/png": "[encoded data removed]",
            "text/plain": [
              "<Figure size 432x288 with 1 Axes>"
            ]
          },
          "metadata": {
            "tags": [],
            "needs_background": "light"
          }
        }
      ]
    },
    {
      "cell_type": "code",
      "metadata": {
        "id": "KWFifrNpuTMw"
      },
      "source": [
        "learning_rate = LearningRateSchedule(d_model)\n",
        "optimizer = tf.keras.optimizers.Adam(learning_rate,beta_2=0.98,epsilon = 1e-9)"
      ],
      "execution_count": null,
      "outputs": []
    },
    {
      "cell_type": "code",
      "metadata": {
        "id": "0NzMBFacuTJ8"
      },
      "source": [
        "loss_object = tf.keras.losses.SparseCategoricalCrossentropy(\n",
        "    from_logits=True, reduction='none')"
      ],
      "execution_count": null,
      "outputs": []
    },
    {
      "cell_type": "code",
      "metadata": {
        "id": "0e0chJKiEwk8"
      },
      "source": [
        "def loss_function(real,pred):\n",
        "    mask = math.logical_not(math.equal(real,0))\n",
        "    loss_ = loss_object(real,pred)\n",
        "    mask = tf.cast(mask,dtype = loss_.dtype)\n",
        "    loss_ = tf.multiply(mask,loss_)\n",
        "    return tf.reduce_sum(loss_)/tf.reduce_sum(mask)"
      ],
      "execution_count": null,
      "outputs": []
    },
    {
      "cell_type": "code",
      "metadata": {
        "id": "tctgfrAXKAse"
      },
      "source": [
        "def accuracy_function(real,pred):\n",
        "    accuracy = math.equal(real,tf.argmax(pred,axis = 2))\n",
        "    mask =   math.logical_not(math.equal(real,0))\n",
        "    accuracy = math.logical_and(mask, accuracy)\n",
        "    accuracy = tf.cast(accuracy, dtype=tf.float32)\n",
        "    mask = tf.cast(mask, dtype=tf.float32)\n",
        "    accuracy = tf.reduce_sum(accuracy)/tf.reduce_sum(mask)"
      ],
      "execution_count": null,
      "outputs": []
    },
    {
      "cell_type": "code",
      "metadata": {
        "id": "d9ya7R3ZP8jv"
      },
      "source": [
        "train_loss = tf.keras.metrics.Mean(name='train_loss')\n",
        "train_accuracy = tf.keras.metrics.Mean(name='train_accuracy')"
      ],
      "execution_count": null,
      "outputs": []
    },
    {
      "cell_type": "code",
      "metadata": {
        "id": "xu1E-Vj5QJog"
      },
      "source": [
        "transformer = Transformer(\n",
        "    num_layers=num_layers, d_model=d_model, num_heads=num_heads, hidden_layer_shape =hidden_layer_shape, \n",
        "    input_vocab_size=tokenizers.pt.get_vocab_size(), target_vocab_size=tokenizers.en.get_vocab_size(), \n",
        "    pe_input=10000, pe_target=6000,rate = dropout_rate)"
      ],
      "execution_count": null,
      "outputs": []
    },
    {
      "cell_type": "code",
      "metadata": {
        "id": "333q7YczQpQb"
      },
      "source": [
        "def create_masks(input,target):\n",
        "    encoder_mask = generate_mask(input)\n",
        "    decoder_mask = generate_mask(input)\n",
        "    look_ahead_mask = generate_lookahead_mask(tf.shape(target)[1])\n",
        "    dec_target_mask = generate_mask(target)\n",
        "    combined_mask = tf.maximum(look_ahead_mask,dec_target_mask)\n",
        "    return encoder_mask,combined_mask,decoder_mask    "
      ],
      "execution_count": null,
      "outputs": []
    },
    {
      "cell_type": "code",
      "metadata": {
        "id": "eEM0NcHnQwwo"
      },
      "source": [
        "checkpoint_path = \"./checkpoints/train\"\n",
        "\n",
        "ckpt = tf.train.Checkpoint(transformer=transformer,\n",
        "                           optimizer=optimizer)\n",
        "\n",
        "ckpt_manager = tf.train.CheckpointManager(ckpt, checkpoint_path, max_to_keep=5)\n",
        "\n",
        "# if a checkpoint exists, restore the latest checkpoint.\n",
        "if ckpt_manager.latest_checkpoint:\n",
        "  ckpt.restore(ckpt_manager.latest_checkpoint)\n",
        "  print ('Latest checkpoint restored!!')"
      ],
      "execution_count": null,
      "outputs": []
    },
    {
      "cell_type": "markdown",
      "metadata": {
        "id": "OtFeJu1uUdnv"
      },
      "source": [
        "#Train function"
      ]
    },
    {
      "cell_type": "code",
      "metadata": {
        "id": "4dtJj6CKQwtB"
      },
      "source": [
        "train_step_signature = [\n",
        "    tf.TensorSpec(shape=(None, None), dtype=tf.int64),\n",
        "    tf.TensorSpec(shape=(None, None), dtype=tf.int64),\n",
        "]\n",
        "@tf.function(input_signature=train_step_signature)\n",
        "def train_step(input,target):\n",
        "    tar_inp = target[:,:-1]\n",
        "    tar_real = target[:,1:]\n",
        "    encoder_mask,combined_mask,decoder_mask = create_masks(input,tar_inp)\n",
        "    with tf.GradientTape() as tape:\n",
        "        pred = transformer(input,tar_inp,encoder_mask,combined_mask,decoder_mask,True)\n",
        "        print(pred)\n",
        "        loss = loss_function(tar_real,pred)\n",
        "    \n",
        "    gradients = tape.gradient(loss,transformer.trainable_variables)\n",
        "    optimizer.apply_gradients(zip(gradients,transformer.trainable_variables))\n",
        "    train_loss(loss)\n",
        "    train_accuracy(accuracy_function(tar_real,pred))\n"
      ],
      "execution_count": null,
      "outputs": []
    },
    {
      "cell_type": "code",
      "metadata": {
        "id": "3e_nM6QmpQUF"
      },
      "source": [
        "for epoch in tf.range(epochs):\n",
        "    start = time.time()\n",
        "    train_loss.reset_states()\n",
        "    train_accuracy.reset_states()\n",
        "\n",
        "    for batch,(input,target) in enumerate(train_batches):\n",
        "        train_step(input,target)\n",
        "        if batch%10 == 0:\n",
        "            print(f'--> Epoch {epoch+1} Batch {batch} Loss {train_loss.result(): .4f}')\n",
        "    if (epoch + 1) % 5 == 0:\n",
        "        ckpt_save_path = ckpt_manager.save()\n",
        "        print (f'Saving checkpoint for epoch {epoch+1} at {ckpt_save_path}')\n",
        "    \n",
        "    print(f'Epoch {epoch + 1} Loss {train_loss.result():.4f} Accuracy {train_accuracy.result():.4f}')\n",
        "\n",
        "    print(f'Time taken for 1 epoch: {time.time() - start:.2f} secs\\n')  \n"
      ],
      "execution_count": null,
      "outputs": []
    },
    {
      "cell_type": "code",
      "metadata": {
        "id": "MYYlnUJ1QwqP"
      },
      "source": [
        ""
      ],
      "execution_count": null,
      "outputs": []
    },
    {
      "cell_type": "markdown",
      "metadata": {
        "id": "WA786eSzuUC6"
      },
      "source": [
        "#Masks for understanding"
      ]
    },
    {
      "cell_type": "code",
      "metadata": {
        "id": "_rxj0jL7WLr6"
      },
      "source": [
        "def create_masks(inp, tar):\n",
        "  # Encoder padding mask\n",
        "  enc_padding_mask = generate_mask(inp)\n",
        "  \n",
        "  # Used in the 2nd attention block in the decoder.\n",
        "  # This padding mask is used to mask the encoder outputs.\n",
        "  dec_padding_mask = generate_mask(inp)\n",
        "  \n",
        "  # Used in the 1st attention block in the decoder.\n",
        "  # It is used to pad and mask future tokens in the input received by \n",
        "  # the decoder.\n",
        "  look_ahead_mask = generate_lookahead_mask(tf.shape(tar)[1])\n",
        "  dec_target_padding_mask = generate_mask(tar)\n",
        "  combined_mask = tf.maximum(dec_target_padding_mask, look_ahead_mask)\n",
        "  \n",
        "  return enc_padding_mask, combined_mask, dec_padding_mask"
      ],
      "execution_count": null,
      "outputs": []
    },
    {
      "cell_type": "code",
      "metadata": {
        "id": "uIVpVWS2WWv6"
      },
      "source": [
        "tar = tf.random.uniform((2,5))\n",
        "inp = tf.random.uniform((2,5))\n",
        "enc_padding_mask, combined_mask, dec_padding_mask = create_masks(inp, tar)"
      ],
      "execution_count": null,
      "outputs": []
    },
    {
      "cell_type": "code",
      "metadata": {
        "id": "woNhxhdJWooM"
      },
      "source": [
        "enc_padding_mask"
      ],
      "execution_count": null,
      "outputs": []
    },
    {
      "cell_type": "code",
      "metadata": {
        "id": "GAbT1GMSWu4J"
      },
      "source": [
        "combined_mask"
      ],
      "execution_count": null,
      "outputs": []
    },
    {
      "cell_type": "code",
      "metadata": {
        "id": "XupCsi9kW2FO"
      },
      "source": [
        "dec_padding_mask"
      ],
      "execution_count": null,
      "outputs": []
    }
  ]
}